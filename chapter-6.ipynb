{
 "cells": [
  {
   "cell_type": "code",
   "execution_count": 1,
   "metadata": {},
   "outputs": [],
   "source": [
    "from typing import Tuple, Callable, List\n",
    "import random\n",
    "\n",
    "import numpy as np\n",
    "from tqdm.auto import tqdm\n",
    "import matplotlib.pyplot as plt\n",
    "import pandas as pd"
   ]
  },
  {
   "cell_type": "markdown",
   "metadata": {},
   "source": [
    "# Windy gridworld"
   ]
  },
  {
   "cell_type": "code",
   "execution_count": 2,
   "metadata": {},
   "outputs": [],
   "source": [
    "class WindyGridEnv:\n",
    "    \"\"\"Windy grid worl env from example 6.5\"\"\"\n",
    "    def __init__(self,\n",
    "                 dim: Tuple[int, int],\n",
    "                 terminate: Tuple[int, int] = (3, 7),\n",
    "                 start: Tuple[int, int] = (3, 0)):\n",
    "        \"\"\"\n",
    "        Initialize env\n",
    "        :param dim: grid dimension\n",
    "        :param terminate: where to terminate episode\n",
    "        :param start: where to start episode\n",
    "        \"\"\"\n",
    "        self.dim = dim\n",
    "        self.actions = [(-1, 0), (1, 0), (0, -1), (0, 1)]\n",
    "        self.state_terminate = self.grid_to_state(terminate)\n",
    "        self.state_start = self.grid_to_state(start)\n",
    "        self.wind_up = (0, 0, 0, 1, 1, 1, 2, 2, 1, 0)\n",
    "        self.num_states = self.dim[0] * self.dim[1]\n",
    "        \n",
    "    def grid_to_state(self, pos: Tuple[int, int]) -> int:\n",
    "        \"\"\"from grid position to state\"\"\"\n",
    "        return pos[1] + pos[0] * self.dim[1]\n",
    "    \n",
    "    def state_to_grid(self, state: int) -> Tuple[int, int]:\n",
    "        \"\"\"from state idx to grid position\"\"\"\n",
    "        return state // self.dim[1], state % self.dim[1]\n",
    "    \n",
    "    def observe(self, state: int, action: int) -> Tuple[float, int]:\n",
    "        \"\"\"\n",
    "        One envioronment observation, what happens when a ceratin action is taken in a certain state?\n",
    "        :param state: current state\n",
    "        :param action: action to take\n",
    "        :return: a tuple (reward, next state idx, True is new state is the terminal one)\n",
    "        \"\"\"\n",
    "        move_vert, move_hor = self.actions[action]\n",
    "        current_pos = self.state_to_grid(state)\n",
    "        next_pos = current_pos[0] + move_vert - self.wind_up[current_pos[1]], current_pos[1] + move_hor\n",
    "        if next_pos[0] < 0:\n",
    "            next_pos = 0, next_pos[1]\n",
    "            \n",
    "        if next_pos[1] < 0:\n",
    "            next_pos = next_pos[0], 0\n",
    "            \n",
    "        if next_pos[0] >= self.dim[0]:\n",
    "            next_pos = self.dim[0]-1, next_pos[1]\n",
    "            \n",
    "        if next_pos[1] >= self.dim[1]:\n",
    "            next_pos = next_pos[0], self.dim[1]-1\n",
    "            \n",
    "        next_state = self.grid_to_state(next_pos)\n",
    "        terminate = next_state == self.state_terminate\n",
    "            \n",
    "        return -1, next_state, terminate"
   ]
  },
  {
   "cell_type": "markdown",
   "metadata": {},
   "source": [
    "Basic env testing"
   ]
  },
  {
   "cell_type": "code",
   "execution_count": 12,
   "metadata": {},
   "outputs": [
    {
     "data": {
      "text/plain": [
       "(-1, 0, False)"
      ]
     },
     "execution_count": 12,
     "metadata": {},
     "output_type": "execute_result"
    }
   ],
   "source": [
    "windy_env = WindyGridEnv(dim=(7, 10))\n",
    "test_state = 5, 3\n",
    "assert windy_env.state_to_grid(windy_env.grid_to_state(test_state)) == test_state\n",
    "windy_env.observe(0, 0)"
   ]
  },
  {
   "cell_type": "markdown",
   "metadata": {},
   "source": [
    "### SARSA\n",
    "Define SARSA agent"
   ]
  },
  {
   "cell_type": "code",
   "execution_count": 6,
   "metadata": {},
   "outputs": [],
   "source": [
    "class SarsaAgent:\n",
    "    \"\"\"Sarsa agent as in paragraph 6.4\"\"\"\n",
    "    def __init__(self, alpha: float = .5, eps: float = .1, gamma: float = 1, num_episodes: int = 200):\n",
    "        \"\"\"\n",
    "        Initialize agent\n",
    "        :param alpha: step size\n",
    "        :param eps: eps greedy parameter\n",
    "        :param gamma: discount factor\n",
    "        :param num_episodes: number of episodes\n",
    "        \"\"\"\n",
    "        self.eps = eps\n",
    "        self.gamma = gamma\n",
    "        self.num_episodes = num_episodes\n",
    "        self.alpha = alpha\n",
    "\n",
    "    def policy(self, q: np.array) -> int:\n",
    "        \"\"\"eps greedy policy\"\"\"\n",
    "        if random.uniform(0, 1) >= self.eps:\n",
    "            action = self.argmax(q_values=q)\n",
    "        else:\n",
    "            action = random.randint(0, len(q)-1)\n",
    "            \n",
    "        return action\n",
    "    \n",
    "    def argmax(self, q_values):\n",
    "        \"\"\"argmax with random tie-breaking\n",
    "        Args:\n",
    "            q_values (Numpy array): the array of action-values\n",
    "        Returns:\n",
    "            action (int): an action with the highest value\n",
    "        \"\"\"\n",
    "        top = float(\"-inf\")\n",
    "        ties = []\n",
    "\n",
    "        for i in range(len(q_values)):\n",
    "            if q_values[i] > top:\n",
    "                top = q_values[i]\n",
    "                ties = []\n",
    "\n",
    "            if q_values[i] == top:\n",
    "                ties.append(i)\n",
    "\n",
    "        return random.choice(ties)\n",
    "\n",
    "    def solve(self, env: WindyGridEnv) -> Tuple[np.ndarray, np.array, List]:\n",
    "        \"\"\"Given the environment, apply SARSA with given policy\"\"\"\n",
    "        q = np.zeros([env.num_states, len(env.actions)])\n",
    "        steps = []\n",
    "        for _ in tqdm(range(self.num_episodes), total=self.num_episodes, desc=\"Episodes\"):\n",
    "            state = env.state_start\n",
    "            action = self.policy(q[state, :])\n",
    "            terminate = False\n",
    "            count = 0\n",
    "            while True:\n",
    "                # get environment obervation\n",
    "                reward, next_state, terminate = env.observe(state=state, action=action)\n",
    "\n",
    "                # select next action from policy and current value action\n",
    "                next_action = self.policy(q[next_state, :])\n",
    "\n",
    "                # update action-value function\n",
    "                if terminate:\n",
    "                    next_val = 0\n",
    "                    break\n",
    "                else:\n",
    "                    next_val = self.gamma * q[next_state, next_action]\n",
    "                q[state, action] += self.alpha * (reward + next_val - q[state, action])\n",
    "\n",
    "                # update state and action for next iteration\n",
    "                state, action = next_state, next_action\n",
    "                count += 1\n",
    "            steps.append(count)\n",
    "\n",
    "        return q, np.array([self.policy(x) for x in q]), steps"
   ]
  },
  {
   "cell_type": "markdown",
   "metadata": {},
   "source": [
    "Run Sarga agent"
   ]
  },
  {
   "cell_type": "code",
   "execution_count": 7,
   "metadata": {},
   "outputs": [
    {
     "data": {
      "application/vnd.jupyter.widget-view+json": {
       "model_id": "fe1990e9d1574a92b97a8e294c8040be",
       "version_major": 2,
       "version_minor": 0
      },
      "text/plain": [
       "Episodes:   0%|          | 0/200 [00:00<?, ?it/s]"
      ]
     },
     "metadata": {},
     "output_type": "display_data"
    }
   ],
   "source": [
    "agent = SarsaAgent()\n",
    "q_optim, pi_optim, steps = agent.solve(env=windy_env)"
   ]
  },
  {
   "cell_type": "markdown",
   "metadata": {},
   "source": [
    "From book example 6.5: \"The increasing slope of the graph shows that the goal was reached more quickly over time\""
   ]
  },
  {
   "cell_type": "code",
   "execution_count": 11,
   "metadata": {},
   "outputs": [
    {
     "data": {
      "image/png": "[encoded data removed]",
      "text/plain": [
       "<Figure size 432x288 with 1 Axes>"
      ]
     },
     "metadata": {
      "needs_background": "light"
     },
     "output_type": "display_data"
    }
   ],
   "source": [
    "plt.plot(np.cumsum(steps), range(len(steps)))\n",
    "plt.xlabel('time steps')\n",
    "plt.ylabel('episodes')\n",
    "None"
   ]
  },
  {
   "cell_type": "markdown",
   "metadata": {},
   "source": [
    "Show optimal policy"
   ]
  },
  {
   "cell_type": "code",
   "execution_count": 10,
   "metadata": {},
   "outputs": [
    {
     "data": {
      "text/html": [
       "<div>\n",
       "<style scoped>\n",
       "    .dataframe tbody tr th:only-of-type {\n",
       "        vertical-align: middle;\n",
       "    }\n",
       "\n",
       "    .dataframe tbody tr th {\n",
       "        vertical-align: top;\n",
       "    }\n",
       "\n",
       "    .dataframe thead th {\n",
       "        text-align: right;\n",
       "    }\n",
       "</style>\n",
       "<table border=\"1\" class=\"dataframe\">\n",
       "  <thead>\n",
       "    <tr style=\"text-align: right;\">\n",
       "      <th></th>\n",
       "      <th>col_0</th>\n",
       "      <th>col_1</th>\n",
       "      <th>col_2</th>\n",
       "      <th>col_3</th>\n",
       "      <th>col_4</th>\n",
       "      <th>col_5</th>\n",
       "      <th>col_6</th>\n",
       "      <th>col_7</th>\n",
       "      <th>col_8</th>\n",
       "      <th>col_9</th>\n",
       "    </tr>\n",
       "  </thead>\n",
       "  <tbody>\n",
       "    <tr>\n",
       "      <th>0</th>\n",
       "      <td>down</td>\n",
       "      <td>rigth</td>\n",
       "      <td>rigth</td>\n",
       "      <td>rigth</td>\n",
       "      <td>rigth</td>\n",
       "      <td>rigth</td>\n",
       "      <td>rigth</td>\n",
       "      <td>rigth</td>\n",
       "      <td>rigth</td>\n",
       "      <td>down</td>\n",
       "    </tr>\n",
       "    <tr>\n",
       "      <th>1</th>\n",
       "      <td>rigth</td>\n",
       "      <td>rigth</td>\n",
       "      <td>left</td>\n",
       "      <td>rigth</td>\n",
       "      <td>up</td>\n",
       "      <td>rigth</td>\n",
       "      <td>rigth</td>\n",
       "      <td>up</td>\n",
       "      <td>up</td>\n",
       "      <td>down</td>\n",
       "    </tr>\n",
       "    <tr>\n",
       "      <th>2</th>\n",
       "      <td>rigth</td>\n",
       "      <td>rigth</td>\n",
       "      <td>rigth</td>\n",
       "      <td>rigth</td>\n",
       "      <td>rigth</td>\n",
       "      <td>rigth</td>\n",
       "      <td>down</td>\n",
       "      <td>down</td>\n",
       "      <td>left</td>\n",
       "      <td>down</td>\n",
       "    </tr>\n",
       "    <tr>\n",
       "      <th>3</th>\n",
       "      <td>up</td>\n",
       "      <td>up</td>\n",
       "      <td>rigth</td>\n",
       "      <td>rigth</td>\n",
       "      <td>rigth</td>\n",
       "      <td>up</td>\n",
       "      <td>down</td>\n",
       "      <td>down</td>\n",
       "      <td>left</td>\n",
       "      <td>down</td>\n",
       "    </tr>\n",
       "    <tr>\n",
       "      <th>4</th>\n",
       "      <td>down</td>\n",
       "      <td>rigth</td>\n",
       "      <td>rigth</td>\n",
       "      <td>rigth</td>\n",
       "      <td>up</td>\n",
       "      <td>rigth</td>\n",
       "      <td>left</td>\n",
       "      <td>down</td>\n",
       "      <td>left</td>\n",
       "      <td>left</td>\n",
       "    </tr>\n",
       "    <tr>\n",
       "      <th>5</th>\n",
       "      <td>rigth</td>\n",
       "      <td>rigth</td>\n",
       "      <td>up</td>\n",
       "      <td>rigth</td>\n",
       "      <td>up</td>\n",
       "      <td>down</td>\n",
       "      <td>up</td>\n",
       "      <td>down</td>\n",
       "      <td>left</td>\n",
       "      <td>down</td>\n",
       "    </tr>\n",
       "    <tr>\n",
       "      <th>6</th>\n",
       "      <td>down</td>\n",
       "      <td>rigth</td>\n",
       "      <td>rigth</td>\n",
       "      <td>rigth</td>\n",
       "      <td>up</td>\n",
       "      <td>left</td>\n",
       "      <td>rigth</td>\n",
       "      <td>rigth</td>\n",
       "      <td>up</td>\n",
       "      <td>up</td>\n",
       "    </tr>\n",
       "  </tbody>\n",
       "</table>\n",
       "</div>"
      ],
      "text/plain": [
       "   col_0  col_1  col_2  col_3  col_4  col_5  col_6  col_7  col_8 col_9\n",
       "0   down  rigth  rigth  rigth  rigth  rigth  rigth  rigth  rigth  down\n",
       "1  rigth  rigth   left  rigth     up  rigth  rigth     up     up  down\n",
       "2  rigth  rigth  rigth  rigth  rigth  rigth   down   down   left  down\n",
       "3     up     up  rigth  rigth  rigth     up   down   down   left  down\n",
       "4   down  rigth  rigth  rigth     up  rigth   left   down   left  left\n",
       "5  rigth  rigth     up  rigth     up   down     up   down   left  down\n",
       "6   down  rigth  rigth  rigth     up   left  rigth  rigth     up    up"
      ]
     },
     "execution_count": 10,
     "metadata": {},
     "output_type": "execute_result"
    }
   ],
   "source": [
    "def dict_to_grid(fun_on_grid: dict, dim: Tuple[int, int]):\n",
    "    \"\"\"Plot function on grid\"\"\"\n",
    "    ans = []\n",
    "    for row in range(dim[0]):\n",
    "        ans.append({f\"col_{col}\": fun_on_grid[(row, col)] for col in range(dim[1])})\n",
    "        \n",
    "    return pd.DataFrame(ans)\n",
    "\n",
    "action_to_move = ['up', 'down', 'left', 'rigth']\n",
    "pi_optim_dict = {windy_env.state_to_grid(state): action_to_move[val] for state, val in enumerate(pi_optim)}\n",
    "dict_to_grid(pi_optim_dict, dim=windy_env.dim)"
   ]
  },
  {
   "cell_type": "markdown",
   "metadata": {},
   "source": [
    "### WIth King moves"
   ]
  },
  {
   "cell_type": "code",
   "execution_count": null,
   "metadata": {},
   "outputs": [],
   "source": []
  }
 ],
 "metadata": {
  "kernelspec": {
   "display_name": "rl-study",
   "language": "python",
   "name": "rl-study"
  },
  "language_info": {
   "codemirror_mode": {
    "name": "ipython",
    "version": 3
   },
   "file_extension": ".py",
   "mimetype": "text/x-python",
   "name": "python",
   "nbconvert_exporter": "python",
   "pygments_lexer": "ipython3",
   "version": "3.9.2"
  }
 },
 "nbformat": 4,
 "nbformat_minor": 4
}

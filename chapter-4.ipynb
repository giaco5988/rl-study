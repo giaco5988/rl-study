{
 "cells": [
  {
   "cell_type": "code",
   "execution_count": 1,
   "metadata": {},
   "outputs": [],
   "source": [
    "%matplotlib inline\n",
    "\n",
    "import math\n",
    "from typing import Sequence, Tuple, Dict\n",
    "# import random\n",
    "\n",
    "import matplotlib.pyplot as plt\n",
    "# import pandas as pd\n",
    "# import numpy as np"
   ]
  },
  {
   "cell_type": "code",
   "execution_count": 2,
   "metadata": {},
   "outputs": [],
   "source": [
    "class JackRentalEnv:\n",
    "    \"\"\"Manage Jack’s Car Rental environment\"\"\"\n",
    "    def __init__(self, dim: int = 20):\n",
    "        \"\"\"\"\"\"\n",
    "        self.dim = dim\n",
    "        self.num_states = dim * dim\n",
    "        self.actions = list(range(1, 6)) + list(range(-5, 1))\n",
    "        self.current_state = {\"loc_1\": 10, \"loc_2\": 10}\n",
    "        self.transition_prob = {\n",
    "            \"loc_1\": self.compute_prob(lambda_request=3, lambda_return=3),\n",
    "            \"loc_2\": self.compute_prob(lambda_request=4, lambda_return=2)\n",
    "        }\n",
    "        \n",
    "        # sanity checks\n",
    "        assert 1-sum(self.transition_prob['loc_1'].values()) < 1e-6, \"Probability should add up to one\"\n",
    "        assert 1-sum(self.transition_prob['loc_2'].values()) < 1e-6, \"Probability should add up to one\"\n",
    "        \n",
    "    def transition(self, action: int, state: Tuple[int, int]) -> Tuple:\n",
    "        \"\"\"\"\"\"\n",
    "        # add returns and requests at day\n",
    "#         for location in self.transition_prob:\n",
    "        # location 1\n",
    "        for (car_in, car_out), prob in self.transition_prob['loc_1']:\n",
    "            new_state = state + car_in - car_out\n",
    "            if new_state >= 0:\n",
    "                car_rent = car_out\n",
    "            else:\n",
    "                car_rent = max(car_out + new_state, 0)\n",
    "            assert car_rent >= 0\n",
    "            new_state = max(new_state, 0)\n",
    "            new_state = min(new_state, self.dim)\n",
    "            reward = 10 * car_rent\n",
    "            storage.append((new_state, prob, reward))\n",
    "            \n",
    "        # TODO HERE\n",
    "        # move cars at night\n",
    "        if action >= 0:\n",
    "            move_cars = max(0, self.current_state['pos_1']-action)\n",
    "            self.current_state['pos_1'] -= move_cars\n",
    "            self.current_state['pos_2'] += move_cars\n",
    "            self.current_state['pos_2'] = min(self.current_state['pos_2'], self.dim)\n",
    "        else:\n",
    "            move_cars = max(0, self.current_state['pos_2']+action)\n",
    "            \n",
    "        \n",
    "        self.current_state['pos_1'] -= action\n",
    "        self.current_state['pos_2'] += action\n",
    "        reward = -2 * abs(action)\n",
    "            \n",
    "        return reward, self.current_state['pos_1'], self.current_state['pos_2']\n",
    "        \n",
    "#     def show_full_space(self):\n",
    "#         \"\"\"Show all possible action/state combinations and their rewards\"\"\"\n",
    "#         for i in range(self.dim):\n",
    "#             for k in range(self.dim):\n",
    "#                 for action_name, action in self.possible_actions.items():\n",
    "#                     reward, next_pos = self.step(current_position=(i, k), action_name=action_name)\n",
    "#                     print(f\"from {(i, k)} move {action_name} --> into {next_pos} with R={reward}\")\n",
    "                    \n",
    "#     def step(self, current_position: Tuple[int, int], action_name: str):\n",
    "#         \"\"\"Get reward and next position/state\"\"\"\n",
    "#         assert action_name in self.possible_actions, f\"Action {action_name} not among possible actions\"\n",
    "        \n",
    "#         action_x, action_y = self.possible_actions[action_name]\n",
    "#         i, k = current_position\n",
    "#         next_pos = i+action_x, k+action_y\n",
    "#         if (i, k) in self.special_moves:  # special move get fixed reward and always move to one location\n",
    "#             next_pos = self.special_moves[(i, k)]\n",
    "#             reward = self.special_reward[(i, k)]\n",
    "#         elif next_pos[0] < 0 or next_pos[0] > self.dim-1 or next_pos[1] < 0 or next_pos[1] > self.dim-1:\n",
    "#             next_pos = i, k\n",
    "#             reward = -1\n",
    "#         else:\n",
    "#             reward = 0\n",
    "        \n",
    "#         return reward, next_pos\n",
    "    \n",
    "    def grid_to_vec(self, row: int, col: int) -> int:\n",
    "        \"\"\"get index of vector which corresponds to a grid position\"\"\"\n",
    "        assert 0 <= row < self.dim, f\"Invalid row number {row}, max is {self.dim - 1}\"\n",
    "        assert 0 <= col < self.dim, f\"Invalid column number {col}, max is {self.dim - 1}\"\n",
    "        \n",
    "        return row * self.dim + col\n",
    "\n",
    "    def vec_to_grid(self, idx: int) -> Tuple[int, int]:\n",
    "        \"\"\"get grid position which corresponds to index of vector\"\"\"\n",
    "        assert 0 <= idx < self.dim * self.dim, f\"Invalid index {idx}, max is {self.dim * self.dim - 1}\"\n",
    "        \n",
    "        return idx // self.dim, idx % self.dim\n",
    "    \n",
    "    def dict_to_grid(self, fun_on_grid: dict):\n",
    "        ans = []\n",
    "        for row in range(self.dim):\n",
    "            ans.append({f\"col_{col}\": fun_on_grid[(row, col)] for col in range(self.dim)})\n",
    "\n",
    "        return pd.DataFrame(ans)\n",
    "    \n",
    "    def poisson(self, n: int, exp_value: float):\n",
    "        \"\"\"\"\"\"\n",
    "        return exp_value ** n / math.factorial(n) * math.exp(-exp_value)\n",
    "    \n",
    "    def compute_prob(self, lambda_request: float, lambda_return: float, max_comb: int = 20):\n",
    "        \"\"\"\"\"\"\n",
    "        change = {}\n",
    "        for i in range(max_comb):\n",
    "            for k in range(max_comb):\n",
    "                change[(i, k)] = self.poisson(i, lambda_return) * self.poisson(k, lambda_request)\n",
    "#                 if i-k not in change:\n",
    "#                     change[i-k] = self.poisson(i, lambda_return) * self.poisson(k, lambda_request)\n",
    "#                 else:\n",
    "#                     change[i-k] += self.poisson(i, lambda_return) * self.poisson(k, lambda_request)\n",
    "                    \n",
    "        return change"
   ]
  },
  {
   "cell_type": "code",
   "execution_count": 5,
   "metadata": {
    "scrolled": true
   },
   "outputs": [],
   "source": [
    "jack_rental = JackRentalEnv()"
   ]
  },
  {
   "cell_type": "code",
   "execution_count": 6,
   "metadata": {},
   "outputs": [
    {
     "data": {
      "text/plain": [
       "Text(0.5, 1.0, 'Location 1')"
      ]
     },
     "execution_count": 6,
     "metadata": {},
     "output_type": "execute_result"
    },
    {
     "data": {
      "image/png": "[encoded data removed]",
      "text/plain": [
       "<Figure size 432x288 with 1 Axes>"
      ]
     },
     "metadata": {
      "needs_background": "light"
     },
     "output_type": "display_data"
    }
   ],
   "source": [
    "plot_loc = {}\n",
    "for (x, y), value in jack_rental.transition_prob['loc_1'].items():\n",
    "    if x-y in plot_loc:\n",
    "        plot_loc[x-y] += value\n",
    "    else:\n",
    "        plot_loc[x-y] = value\n",
    "\n",
    "plt.bar(plot_loc.keys(), plot_loc.values())\n",
    "plt.title('Location 1')"
   ]
  },
  {
   "cell_type": "code",
   "execution_count": 7,
   "metadata": {},
   "outputs": [
    {
     "data": {
      "text/plain": [
       "Text(0.5, 1.0, 'Location 2')"
      ]
     },
     "execution_count": 7,
     "metadata": {},
     "output_type": "execute_result"
    },
    {
     "data": {
      "image/png": "[encoded data removed]",
      "text/plain": [
       "<Figure size 432x288 with 1 Axes>"
      ]
     },
     "metadata": {
      "needs_background": "light"
     },
     "output_type": "display_data"
    }
   ],
   "source": [
    "plot_loc = {}\n",
    "for (x, y), value in jack_rental.transition_prob['loc_2'].items():\n",
    "    if x-y in plot_loc:\n",
    "        plot_loc[x-y] += value\n",
    "    else:\n",
    "        plot_loc[x-y] = value\n",
    "\n",
    "plt.bar(plot_loc.keys(), plot_loc.values())\n",
    "plt.title('Location 2')"
   ]
  },
  {
   "cell_type": "code",
   "execution_count": null,
   "metadata": {},
   "outputs": [],
   "source": []
  }
 ],
 "metadata": {
  "kernelspec": {
   "display_name": "rl-study",
   "language": "python",
   "name": "rl-study"
  },
  "language_info": {
   "codemirror_mode": {
    "name": "ipython",
    "version": 3
   },
   "file_extension": ".py",
   "mimetype": "text/x-python",
   "name": "python",
   "nbconvert_exporter": "python",
   "pygments_lexer": "ipython3",
   "version": "3.9.2"
  }
 },
 "nbformat": 4,
 "nbformat_minor": 4
}
